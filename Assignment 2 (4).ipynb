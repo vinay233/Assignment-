{
 "cells": [
  {
   "cell_type": "markdown",
   "id": "d9747726",
   "metadata": {},
   "source": [
    "# Question 1"
   ]
  },
  {
   "cell_type": "markdown",
   "id": "31f1ba56",
   "metadata": {},
   "source": [
    "1.What are the two values of the Boolean data type? How do you write them?"
   ]
  },
  {
   "cell_type": "markdown",
   "id": "e616ae56",
   "metadata": {},
   "source": [
    "Ans :\n",
    "    \n",
    "The two values of Boolean data types are True(1) and False (0)."
   ]
  },
  {
   "cell_type": "markdown",
   "id": "e6001b97",
   "metadata": {},
   "source": [
    "# Question 2"
   ]
  },
  {
   "cell_type": "markdown",
   "id": "eedf5d3c",
   "metadata": {},
   "source": [
    "2.What are the three different types of Boolean operators?"
   ]
  },
  {
   "cell_type": "markdown",
   "id": "ba8e79e6",
   "metadata": {},
   "source": [
    "Ans :\n",
    "\n",
    "The three different types of Boolean operators are : AND, OR, NOT ."
   ]
  },
  {
   "cell_type": "markdown",
   "id": "14ca9c6b",
   "metadata": {},
   "source": [
    "# Question 3"
   ]
  },
  {
   "cell_type": "markdown",
   "id": "c36371bc",
   "metadata": {},
   "source": [
    "3.Make a list of each Boolean operator's truth tables (i.e. every possible combination of Boolean\n",
    "values for the operator and what it evaluate )."
   ]
  },
  {
   "cell_type": "code",
   "execution_count": null,
   "id": "08737a96",
   "metadata": {},
   "outputs": [],
   "source": [
    "Ans  :\n",
    "\n",
    "A        B      (A AND B)      (A OR B)      (A NOT)      (B NOT)\n",
    "\n",
    "True    True      True           True         False         False\n",
    "True    False     False          True         False         True\n",
    "False   True      False          True         True          False \n",
    "False   False     False          False        True          True"
   ]
  },
  {
   "cell_type": "markdown",
   "id": "ca59f72b",
   "metadata": {},
   "source": [
    "# Question 4"
   ]
  },
  {
   "cell_type": "markdown",
   "id": "939b5c38",
   "metadata": {},
   "source": [
    "4.What are the values of the following expressions?"
   ]
  },
  {
   "cell_type": "code",
   "execution_count": null,
   "id": "7b2ef217",
   "metadata": {},
   "outputs": [],
   "source": [
    "Ans  :\n",
    "\n",
    "(5 > 4) and (3 == 5)                               :      False \n",
    "not (5 > 4)                                        :      False\n",
    "(5 > 4) or (3 == 5)                                :      True\n",
    "not ((5 > 4) or (3 == 5))                          :      False\n",
    "(True and True) and (True == False)                :      False\n",
    "(not False) or (not True)                          :      True"
   ]
  },
  {
   "cell_type": "markdown",
   "id": "f46ca9e0",
   "metadata": {},
   "source": [
    "# Question 5"
   ]
  },
  {
   "cell_type": "markdown",
   "id": "120547bd",
   "metadata": {},
   "source": [
    "5.What are the six comparison operators?"
   ]
  },
  {
   "cell_type": "code",
   "execution_count": null,
   "id": "2dcf8e96",
   "metadata": {},
   "outputs": [],
   "source": [
    "Ans  : Different Comparison operators are :\n",
    "\n",
    " ==            :   Equal to\n",
    " >             :   Greater than \n",
    " <             :   Less than \n",
    " >=            :   Greater than equal to \n",
    " <=            :   Less than equal to\n",
    " <>            :   Not equal to "
   ]
  },
  {
   "cell_type": "markdown",
   "id": "5884e1ae",
   "metadata": {},
   "source": [
    "# Question 6"
   ]
  },
  {
   "cell_type": "markdown",
   "id": "ae9e7e5a",
   "metadata": {},
   "source": [
    "6.How do you tell the difference between the equal to and assignment operators?Describe a\n",
    "condition and when you would use one."
   ]
  },
  {
   "cell_type": "markdown",
   "id": "1cabe3ba",
   "metadata": {},
   "source": [
    "Ans  :\n",
    "\n",
    "\" = \" is used for assignment operator whereas \" == \" is used for equal to operator .\n",
    "Example : age = 25 .here age variable is assigned a value of 25 .\n",
    "          (3==5) - this is a comparsion operator equal to . The value it produces is false ."
   ]
  },
  {
   "cell_type": "markdown",
   "id": "cca6781c",
   "metadata": {},
   "source": [
    "# Qusetion 7"
   ]
  },
  {
   "cell_type": "markdown",
   "id": "947b7c9d",
   "metadata": {},
   "source": [
    "7.Identify the three blocks in this code:"
   ]
  },
  {
   "cell_type": "code",
   "execution_count": null,
   "id": "abc0651d",
   "metadata": {},
   "outputs": [],
   "source": [
    "spam = 0\n",
    "\n",
    "if spam == 10:                :  Block 1                  \n",
    "print('eggs') \n",
    "\n",
    "if spam > 5:                  :  Block 2\n",
    "print('bacon')\n",
    "\n",
    "else:                         :  Block 3\n",
    "print('ham')\n",
    "print('spam')\n",
    "print('spam')"
   ]
  },
  {
   "cell_type": "markdown",
   "id": "171bccb0",
   "metadata": {},
   "source": [
    "# Question 8"
   ]
  },
  {
   "cell_type": "markdown",
   "id": "141950d4",
   "metadata": {},
   "source": [
    "8.Write code that prints Hello if 1 is stored in spam, prints Howdy if 2 is stored in spam, and prints\n",
    "Greetings! if anything else is stored in spam."
   ]
  },
  {
   "cell_type": "code",
   "execution_count": 4,
   "id": "3097f21b",
   "metadata": {},
   "outputs": [
    {
     "name": "stdout",
     "output_type": "stream",
     "text": [
      "Enter a number :  1\n",
      "Hello\n"
     ]
    }
   ],
   "source": [
    "spam = input (\"Enter a number :  \")\n",
    "if spam =='1' :\n",
    "    print (\"Hello\")\n",
    "\n",
    "elif spam =='2' :\n",
    "    print (\"Howdy\")\n",
    "    \n",
    "else : \n",
    "    print (\"Greetings!\")"
   ]
  },
  {
   "cell_type": "markdown",
   "id": "d5815c2c",
   "metadata": {},
   "source": [
    "# Question 9"
   ]
  },
  {
   "cell_type": "markdown",
   "id": "1a109d49",
   "metadata": {},
   "source": [
    "9.If your programme is stuck in an endless loop, what keys you’ll press?"
   ]
  },
  {
   "cell_type": "markdown",
   "id": "29ffa84b",
   "metadata": {},
   "source": [
    "Ans  :\n",
    "\n",
    "To avoid endless loop we should use \"break\" keyword .If we are stuck in endless loop press \"CTRL-C\" this will terminate the whole code."
   ]
  },
  {
   "cell_type": "markdown",
   "id": "9ee7e94b",
   "metadata": {},
   "source": [
    "# Question 10"
   ]
  },
  {
   "cell_type": "markdown",
   "id": "cc304ef3",
   "metadata": {},
   "source": [
    "10.How can you tell the difference between break and continue?"
   ]
  },
  {
   "cell_type": "markdown",
   "id": "12e70236",
   "metadata": {},
   "source": [
    "Ans :\n",
    "\n",
    "\"Break\" command is used to terminate the loop or come out of the loop whereas as soon as the interpreter sees the \"continue\" command it jumps back at the top of the loop  without executing the next line .\n"
   ]
  },
  {
   "cell_type": "markdown",
   "id": "fe18feae",
   "metadata": {},
   "source": [
    "# Question 11"
   ]
  },
  {
   "cell_type": "markdown",
   "id": "5781f95a",
   "metadata": {},
   "source": [
    "11.In a for loop, what is the difference between range(10), range(0, 10), and range(0, 10, 1)?"
   ]
  },
  {
   "cell_type": "markdown",
   "id": "941e4558",
   "metadata": {},
   "source": [
    "Ans : \n",
    "    \n",
    "Range (start,stop ,stepover) .this is how range functionworks .\n",
    "range(10), range(0, 10), and range(0, 10, 1) will give the same result .\n",
    "Range (10) :- will give the numbers from 0 to 9 because it takes 0 as default start \n",
    "Range (0,10) :-  will give the numbers from 0 to 9 but we are specifying the start point here .\n",
    "Range(0,10,1) :-  will give the numbers from 0 to 9 but here we are specifying the start and stepover here .By default start point is 1 and stepover is 1.\n",
    "\n"
   ]
  },
  {
   "cell_type": "markdown",
   "id": "3fe7c292",
   "metadata": {},
   "source": [
    "# Question 12"
   ]
  },
  {
   "cell_type": "markdown",
   "id": "a2758427",
   "metadata": {},
   "source": [
    "12.Write a short program that prints the numbers 1 to 10 using a for loop. Then write an equivalent\n",
    "program that prints the numbers 1 to 10 using a while loop."
   ]
  },
  {
   "cell_type": "code",
   "execution_count": 10,
   "id": "52aea36a",
   "metadata": {},
   "outputs": [
    {
     "name": "stdout",
     "output_type": "stream",
     "text": [
      "1\n",
      "2\n",
      "3\n",
      "4\n",
      "5\n",
      "6\n",
      "7\n",
      "8\n",
      "9\n",
      "10\n"
     ]
    }
   ],
   "source": [
    "#for loop\n",
    "for i in range(1,11) :\n",
    "    print (i)\n",
    "    "
   ]
  },
  {
   "cell_type": "code",
   "execution_count": 12,
   "id": "36cb4633",
   "metadata": {},
   "outputs": [
    {
     "name": "stdout",
     "output_type": "stream",
     "text": [
      "1\n",
      "2\n",
      "3\n",
      "4\n",
      "5\n",
      "6\n",
      "7\n",
      "8\n",
      "9\n",
      "10\n"
     ]
    }
   ],
   "source": [
    "#while loop \n",
    "i =1\n",
    "while i <11 :\n",
    "    print (i)\n",
    "    i = i+1"
   ]
  },
  {
   "cell_type": "markdown",
   "id": "f84c1381",
   "metadata": {},
   "source": [
    "# Question 13"
   ]
  },
  {
   "cell_type": "markdown",
   "id": "af781c72",
   "metadata": {},
   "source": [
    "13.If you had a function named bacon() inside a module named spam, how would you call it after\n",
    "importing spam?"
   ]
  },
  {
   "cell_type": "markdown",
   "id": "9a71ae4a",
   "metadata": {},
   "source": [
    "Ans :\n",
    "    \n",
    "import spam \n",
    "bacon()"
   ]
  }
 ],
 "metadata": {
  "kernelspec": {
   "display_name": "Python 3 (ipykernel)",
   "language": "python",
   "name": "python3"
  },
  "language_info": {
   "codemirror_mode": {
    "name": "ipython",
    "version": 3
   },
   "file_extension": ".py",
   "mimetype": "text/x-python",
   "name": "python",
   "nbconvert_exporter": "python",
   "pygments_lexer": "ipython3",
   "version": "3.9.7"
  }
 },
 "nbformat": 4,
 "nbformat_minor": 5
}
