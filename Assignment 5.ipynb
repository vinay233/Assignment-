{
 "cells": [
  {
   "cell_type": "markdown",
   "id": "4f783c90",
   "metadata": {},
   "source": [
    "# Question 1"
   ]
  },
  {
   "cell_type": "markdown",
   "id": "b8f7d830",
   "metadata": {},
   "source": [
    "1.What does an empty dictionary's code look like?"
   ]
  },
  {
   "cell_type": "code",
   "execution_count": null,
   "id": "060d0044",
   "metadata": {},
   "outputs": [],
   "source": [
    "# An empty dictionary is like {}\n",
    "\n",
    "my_dict ={}\n",
    "type(my_dict)"
   ]
  },
  {
   "cell_type": "markdown",
   "id": "19d4b91f",
   "metadata": {},
   "source": [
    "# Question 2"
   ]
  },
  {
   "cell_type": "markdown",
   "id": "f1e90e7a",
   "metadata": {},
   "source": [
    "2.What is the value of a dictionary value with the key 'foo' and the value 42?"
   ]
  },
  {
   "cell_type": "code",
   "execution_count": 2,
   "id": "613027be",
   "metadata": {},
   "outputs": [],
   "source": [
    "# The value of dictionary will be 42 \n",
    "\n",
    "my_dict = {\"foo\" : 42}"
   ]
  },
  {
   "cell_type": "code",
   "execution_count": 3,
   "id": "b710a82c",
   "metadata": {},
   "outputs": [
    {
     "data": {
      "text/plain": [
       "42"
      ]
     },
     "execution_count": 3,
     "metadata": {},
     "output_type": "execute_result"
    }
   ],
   "source": [
    "my_dict['foo']"
   ]
  },
  {
   "cell_type": "markdown",
   "id": "3089fd00",
   "metadata": {},
   "source": [
    "# Question 3"
   ]
  },
  {
   "cell_type": "markdown",
   "id": "f0e50728",
   "metadata": {},
   "source": [
    "3.What is the most significant distinction between a dictionary and a list?"
   ]
  },
  {
   "cell_type": "markdown",
   "id": "0f51f128",
   "metadata": {},
   "source": [
    "Ans : \n",
    "    \n",
    "The most significant difference between a dictionary and a list is that a dictionary is a key:value pair whereas a list only has values .\n",
    "\n",
    "Example :\n",
    "my_dict ={'foo' :42},\n",
    "\n",
    "my_list =[1,2,3,4]\n"
   ]
  },
  {
   "cell_type": "markdown",
   "id": "4b18f9ee",
   "metadata": {},
   "source": [
    "# Question 4|"
   ]
  },
  {
   "cell_type": "markdown",
   "id": "aa83b3c6",
   "metadata": {},
   "source": [
    "What happens if you try to access spam['foo'] if spam is {'bar': 100}?"
   ]
  },
  {
   "cell_type": "code",
   "execution_count": 5,
   "id": "a2dcde77",
   "metadata": {},
   "outputs": [],
   "source": [
    "#Ans : If the key is not in tne dictionary then it will keyerror.\n",
    "spam = {'bar' : 100}"
   ]
  },
  {
   "cell_type": "code",
   "execution_count": 6,
   "id": "0020ca74",
   "metadata": {},
   "outputs": [
    {
     "data": {
      "text/plain": [
       "{'bar': 100}"
      ]
     },
     "execution_count": 6,
     "metadata": {},
     "output_type": "execute_result"
    }
   ],
   "source": [
    "spam"
   ]
  },
  {
   "cell_type": "code",
   "execution_count": 7,
   "id": "f0e80ebf",
   "metadata": {},
   "outputs": [
    {
     "ename": "KeyError",
     "evalue": "'foo'",
     "output_type": "error",
     "traceback": [
      "\u001b[1;31m---------------------------------------------------------------------------\u001b[0m",
      "\u001b[1;31mKeyError\u001b[0m                                  Traceback (most recent call last)",
      "\u001b[1;32m~\\AppData\\Local\\Temp/ipykernel_14844/4161307510.py\u001b[0m in \u001b[0;36m<module>\u001b[1;34m\u001b[0m\n\u001b[1;32m----> 1\u001b[1;33m \u001b[0mspam\u001b[0m\u001b[1;33m[\u001b[0m\u001b[1;34m'foo'\u001b[0m\u001b[1;33m]\u001b[0m\u001b[1;33m\u001b[0m\u001b[1;33m\u001b[0m\u001b[0m\n\u001b[0m",
      "\u001b[1;31mKeyError\u001b[0m: 'foo'"
     ]
    }
   ],
   "source": [
    "spam['foo'] "
   ]
  },
  {
   "cell_type": "markdown",
   "id": "c331e12d",
   "metadata": {},
   "source": [
    "# Question 5"
   ]
  },
  {
   "cell_type": "markdown",
   "id": "88fce7df",
   "metadata": {},
   "source": [
    "5.If a dictionary is stored in spam, what is the difference between the expressions 'cat' in spam and\n",
    "'cat' in spam.keys()?"
   ]
  },
  {
   "cell_type": "markdown",
   "id": "c44b3a56",
   "metadata": {},
   "source": [
    "Ans :\n",
    "\n",
    "'cat' in spam will check the key : value pair in the dictionary .If there is any cat either key or value then it will return true else reurns false .\n",
    "\n",
    "'cat' in spam.keys() will check for only keys in the dictionary .If there is any key named 'cat' then it will return true or else return false .\n"
   ]
  },
  {
   "cell_type": "markdown",
   "id": "a57a4a17",
   "metadata": {},
   "source": [
    "# Question 6"
   ]
  },
  {
   "cell_type": "markdown",
   "id": "a115bba2",
   "metadata": {},
   "source": [
    "6.If a dictionary is stored in spam, what is the difference between the expressions 'cat' in spam and\n",
    "'cat' in spam.values()?"
   ]
  },
  {
   "cell_type": "markdown",
   "id": "8b51c37a",
   "metadata": {},
   "source": [
    "Ans :\n",
    "    \n",
    "'cat' in spam will check the key : value pair in the dictionary .If there is any 'cat' either key or value then it will return true or else returns false .\n",
    "\n",
    "'cat' in spam.values() will check for only value in the dictionary .If there is any value named 'cat' then it will return true or else returns false ."
   ]
  },
  {
   "cell_type": "markdown",
   "id": "f1d219fc",
   "metadata": {},
   "source": [
    "# Question 7"
   ]
  },
  {
   "cell_type": "markdown",
   "id": "154d5dd8",
   "metadata": {},
   "source": [
    "7.What is a shortcut for the following code?\n",
    "if 'color' not in spam:\n",
    "spam['color'] = 'black'"
   ]
  },
  {
   "cell_type": "markdown",
   "id": "1e24c54d",
   "metadata": {},
   "source": [
    "Ans : \n",
    "    \n",
    "We will use \"get\" keyword to check if 'color' exists in spam or not.If there is key named 'color' then it will return the value of that 'color' key .\n",
    "\n",
    "If 'color' key is not there then it will create one and we will provide the value during using \"get\" keyword ."
   ]
  },
  {
   "cell_type": "code",
   "execution_count": 8,
   "id": "4d4ab542",
   "metadata": {},
   "outputs": [],
   "source": [
    "#Example1 : If 'color' is there in the dictionary .\n",
    "\n",
    "spam = {'name' : \"vinay\" , 'age': 26, 'color' : 'black'}"
   ]
  },
  {
   "cell_type": "code",
   "execution_count": 9,
   "id": "1477b8e5",
   "metadata": {},
   "outputs": [
    {
     "data": {
      "text/plain": [
       "'black'"
      ]
     },
     "execution_count": 9,
     "metadata": {},
     "output_type": "execute_result"
    }
   ],
   "source": [
    "spam.get('color')"
   ]
  },
  {
   "cell_type": "code",
   "execution_count": 11,
   "id": "dc8d7c37",
   "metadata": {},
   "outputs": [
    {
     "data": {
      "text/plain": [
       "'black'"
      ]
     },
     "execution_count": 11,
     "metadata": {},
     "output_type": "execute_result"
    }
   ],
   "source": [
    "#Example 2 : If'color' is not there in the dictionary .\n",
    "spam = {'name' : \"vinay\" , 'age': 26}\n",
    "spam.get('color', 'black')   #It searches for color key in the momory ,if not there then it will create one and return the value given bt use"
   ]
  },
  {
   "cell_type": "markdown",
   "id": "d4f752b7",
   "metadata": {},
   "source": [
    "# Question 8"
   ]
  },
  {
   "cell_type": "markdown",
   "id": "c23bbd54",
   "metadata": {},
   "source": [
    "8.How do you 'pretty print'dictionary values using which module and function?"
   ]
  },
  {
   "cell_type": "code",
   "execution_count": 14,
   "id": "5eded311",
   "metadata": {},
   "outputs": [
    {
     "name": "stdout",
     "output_type": "stream",
     "text": [
      "dict_values(['vinay', 26, 'black'])\n"
     ]
    }
   ],
   "source": [
    "import pprint \n",
    "spam = {'name' : \"vinay\" , 'age': 26, 'color' : 'black'}\n",
    "\n",
    "pprint.pprint(spam.values())"
   ]
  },
  {
   "cell_type": "code",
   "execution_count": null,
   "id": "342bab6b",
   "metadata": {},
   "outputs": [],
   "source": []
  }
 ],
 "metadata": {
  "kernelspec": {
   "display_name": "Python 3 (ipykernel)",
   "language": "python",
   "name": "python3"
  },
  "language_info": {
   "codemirror_mode": {
    "name": "ipython",
    "version": 3
   },
   "file_extension": ".py",
   "mimetype": "text/x-python",
   "name": "python",
   "nbconvert_exporter": "python",
   "pygments_lexer": "ipython3",
   "version": "3.9.7"
  }
 },
 "nbformat": 4,
 "nbformat_minor": 5
}
