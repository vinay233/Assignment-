{
 "cells": [
  {
   "cell_type": "markdown",
   "id": "3aeb2457",
   "metadata": {},
   "source": [
    "# Question 1"
   ]
  },
  {
   "cell_type": "markdown",
   "id": "a4b5a57b",
   "metadata": {},
   "source": [
    "1.Why are functions advantageous to have in your programs?"
   ]
  },
  {
   "cell_type": "markdown",
   "id": "7d58cd1e",
   "metadata": {},
   "source": [
    "Ans : \n",
    "    \n",
    "Functions increases the reusability of the code . We can use certain lines of codes again and again with the help of functions.Also we can actually create functions that do things based on what parameteres we give in or what arguments we are calling with ."
   ]
  },
  {
   "cell_type": "markdown",
   "id": "13664434",
   "metadata": {},
   "source": [
    "# Question 2"
   ]
  },
  {
   "cell_type": "markdown",
   "id": "1ad454d1",
   "metadata": {},
   "source": [
    "2.When does the code in a function run: when it's specified or when it's called?"
   ]
  },
  {
   "cell_type": "markdown",
   "id": "18484156",
   "metadata": {},
   "source": [
    "Ans :\n",
    "    \n",
    "Functions run when it's called ."
   ]
  },
  {
   "cell_type": "markdown",
   "id": "ba245144",
   "metadata": {},
   "source": [
    "# Question 3"
   ]
  },
  {
   "cell_type": "markdown",
   "id": "c2a2608e",
   "metadata": {},
   "source": [
    "3.What statement creates a function?"
   ]
  },
  {
   "cell_type": "markdown",
   "id": "204bd80b",
   "metadata": {},
   "source": [
    "Ans : \n",
    "    \n",
    "Functions are created by using the \"def\" keyword .\n",
    "Example : def function_name()"
   ]
  },
  {
   "cell_type": "markdown",
   "id": "a2951ca2",
   "metadata": {},
   "source": [
    "# Question 4"
   ]
  },
  {
   "cell_type": "markdown",
   "id": "beb4b2c3",
   "metadata": {},
   "source": [
    "4.What is the difference between a function and a function call?"
   ]
  },
  {
   "cell_type": "markdown",
   "id": "847e7205",
   "metadata": {},
   "source": [
    "Ans : \n",
    "    \n",
    "Functions are certain lines of codes or a block of code that performs an action whereas a function call is using that fuction .Functions are used only when it is called."
   ]
  },
  {
   "cell_type": "markdown",
   "id": "6c8f10fa",
   "metadata": {},
   "source": [
    "# Question 5"
   ]
  },
  {
   "cell_type": "markdown",
   "id": "b1c78633",
   "metadata": {},
   "source": [
    "7.What is the concept of a return value? Is it possible to have a return value in an expression?"
   ]
  },
  {
   "cell_type": "markdown",
   "id": "a3229b66",
   "metadata": {},
   "source": [
    "Ans : \n",
    "    \n",
    "Return value returns the data as it is without changing the data type . The data type of print statement is \"none\".So concatenation or type casting is not possible for print statement .\n",
    "Example :\n",
    "1)def test():\n",
    "    print (\"this is an example\")\n",
    "    \n",
    "str(test()) + \"case\"   :- this will give None as output\n",
    "\n",
    "2)def test() :\n",
    "    return (\"this is an example\")\n",
    "    \n",
    " test() + \"case\"  :-    this will give this is an example case as output \n",
    " \n"
   ]
  },
  {
   "cell_type": "markdown",
   "id": "70154647",
   "metadata": {},
   "source": [
    "# Question 6"
   ]
  },
  {
   "cell_type": "markdown",
   "id": "9b1a86b0",
   "metadata": {},
   "source": [
    "6.If a function does not have a return statement, what is the return value of a call to that function?"
   ]
  },
  {
   "cell_type": "code",
   "execution_count": 1,
   "id": "2941e170",
   "metadata": {},
   "outputs": [],
   "source": [
    "#If a function does not have a return statement the it will print nothing .\n",
    "\n",
    "def test(a,b):\n",
    "    a+b\n",
    "    \n",
    "test(2,3)\n",
    "\n"
   ]
  },
  {
   "cell_type": "markdown",
   "id": "8ce49eb9",
   "metadata": {},
   "source": [
    "# Question 7"
   ]
  },
  {
   "cell_type": "markdown",
   "id": "052eca0d",
   "metadata": {},
   "source": [
    "7.How do you make a function variable refer to the global variable?"
   ]
  },
  {
   "cell_type": "markdown",
   "id": "ada95887",
   "metadata": {},
   "source": [
    "Ans :\n",
    "    \n",
    "We can make the variable as global by using the \"global \" keyword. To make the function variable as global variable first we have declare the function variable as \"global\" and then use any operators accordingly."
   ]
  },
  {
   "cell_type": "markdown",
   "id": "529b3689",
   "metadata": {},
   "source": [
    "# Question 8"
   ]
  },
  {
   "cell_type": "markdown",
   "id": "c69ff997",
   "metadata": {},
   "source": [
    "8.What is the data type of None?"
   ]
  },
  {
   "cell_type": "markdown",
   "id": "a507b7a1",
   "metadata": {},
   "source": [
    "Ans : \n",
    "    \n",
    "None is specialised data type similar to zero ."
   ]
  },
  {
   "cell_type": "markdown",
   "id": "79c96837",
   "metadata": {},
   "source": [
    "# Question 9"
   ]
  },
  {
   "cell_type": "markdown",
   "id": "f1f91c85",
   "metadata": {},
   "source": [
    "9.What does the sentence import areallyourpetsnamederic do?"
   ]
  },
  {
   "cell_type": "markdown",
   "id": "91ac5d22",
   "metadata": {},
   "source": [
    "Ans : \n",
    "\n",
    "This will import all the codes written in \"areallyourpetsnamederic\" files .\n",
    "\n"
   ]
  },
  {
   "cell_type": "markdown",
   "id": "34ada4b4",
   "metadata": {},
   "source": [
    "# Question 10"
   ]
  },
  {
   "cell_type": "markdown",
   "id": "c5bfd0fb",
   "metadata": {},
   "source": [
    "10.If you had a bacon() feature in a spam module, what would you call it after importing spam?"
   ]
  },
  {
   "cell_type": "code",
   "execution_count": null,
   "id": "8b397a8f",
   "metadata": {},
   "outputs": [],
   "source": [
    "Ans :\n",
    "    \n",
    "import spam \n",
    "spam.bacon()"
   ]
  },
  {
   "cell_type": "markdown",
   "id": "f1929d61",
   "metadata": {},
   "source": [
    "# Question 11"
   ]
  },
  {
   "cell_type": "markdown",
   "id": "35c957d2",
   "metadata": {},
   "source": [
    "11.What can you do to save a programme from crashing if it encounters an error?"
   ]
  },
  {
   "cell_type": "markdown",
   "id": "a018bece",
   "metadata": {},
   "source": [
    "Ans :\n",
    "\n",
    "To save the program form crashing always do exception handling so that the code does not crash .Write the code in try and except block ."
   ]
  },
  {
   "cell_type": "markdown",
   "id": "52ce59ec",
   "metadata": {},
   "source": [
    "# Question 12"
   ]
  },
  {
   "cell_type": "markdown",
   "id": "acc108e3",
   "metadata": {},
   "source": [
    "12.What is the purpose of the try clause? What is the purpose of the except clause?"
   ]
  },
  {
   "cell_type": "markdown",
   "id": "89964fb2",
   "metadata": {},
   "source": [
    "Ans : \n",
    "    \n",
    "The purpose of try and except clause is to do exception handling .\n",
    "\n",
    "Exception handling is very important to avoid further failure of the code and secondly it is not user friendly to display the error messages to the user .\n",
    "\n",
    "We write the main code in try block and the errors that can happen in the except block .\n"
   ]
  }
 ],
 "metadata": {
  "kernelspec": {
   "display_name": "Python 3 (ipykernel)",
   "language": "python",
   "name": "python3"
  },
  "language_info": {
   "codemirror_mode": {
    "name": "ipython",
    "version": 3
   },
   "file_extension": ".py",
   "mimetype": "text/x-python",
   "name": "python",
   "nbconvert_exporter": "python",
   "pygments_lexer": "ipython3",
   "version": "3.9.7"
  }
 },
 "nbformat": 4,
 "nbformat_minor": 5
}
