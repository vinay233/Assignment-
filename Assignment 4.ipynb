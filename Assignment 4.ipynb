{
 "cells": [
  {
   "cell_type": "markdown",
   "id": "c61fe168",
   "metadata": {},
   "source": [
    "# Question 1"
   ]
  },
  {
   "cell_type": "markdown",
   "id": "c92dd31a",
   "metadata": {},
   "source": [
    "1.What exactly is [] ?"
   ]
  },
  {
   "cell_type": "code",
   "execution_count": null,
   "id": "47a97bb2",
   "metadata": {},
   "outputs": [],
   "source": [
    "Ans :\n",
    "    \n",
    "In python , lists are written inside [] .Lists are ordered sequence of objects that can be of any data types .A list can be collection of strings ,integers boolean or all .\n",
    "Example : new_list = [1,3,2,\"a\",\"B\"] "
   ]
  },
  {
   "cell_type": "markdown",
   "id": "81088f19",
   "metadata": {},
   "source": [
    "# Question 2"
   ]
  },
  {
   "cell_type": "code",
   "execution_count": null,
   "id": "039113fe",
   "metadata": {},
   "outputs": [],
   "source": [
    "2.In a list of values stored in a variable called spam, how would you assign the value \"hello\" as the\n",
    "third value? (Assume [2, 4, 6, 8, 10] are in spam.)"
   ]
  },
  {
   "cell_type": "code",
   "execution_count": 3,
   "id": "c307975e",
   "metadata": {},
   "outputs": [
    {
     "data": {
      "text/plain": [
       "[2, 4, 'hello', 8, 10]"
      ]
     },
     "execution_count": 3,
     "metadata": {},
     "output_type": "execute_result"
    }
   ],
   "source": [
    "spam = [2, 4, 6, 8, 10]\n",
    "spam[2] = 'hello'\n",
    "spam"
   ]
  },
  {
   "cell_type": "markdown",
   "id": "f0cd5447",
   "metadata": {},
   "source": [
    "# Question 3"
   ]
  },
  {
   "cell_type": "code",
   "execution_count": null,
   "id": "29ba7dfe",
   "metadata": {},
   "outputs": [],
   "source": [
    "Let's pretend the spam includes the list ['a','b', 'c','d'] for the next three queries."
   ]
  },
  {
   "cell_type": "code",
   "execution_count": null,
   "id": "bb3d219f",
   "metadata": {},
   "outputs": [],
   "source": [
    "3.What is the value of spam[int(int('3' * 2) / 11)]? \n",
    "    "
   ]
  },
  {
   "cell_type": "code",
   "execution_count": 3,
   "id": "09a2b8aa",
   "metadata": {},
   "outputs": [
    {
     "data": {
      "text/plain": [
       "'d'"
      ]
     },
     "execution_count": 3,
     "metadata": {},
     "output_type": "execute_result"
    }
   ],
   "source": [
    "#Ans :The value will be \"d\"\n",
    "spam = ['a','b', 'c','d']\n",
    "spam[int(int('3' * 2) / 11)] "
   ]
  },
  {
   "cell_type": "markdown",
   "id": "db5b60e1",
   "metadata": {},
   "source": [
    "# Question 4"
   ]
  },
  {
   "cell_type": "code",
   "execution_count": null,
   "id": "400d1c64",
   "metadata": {},
   "outputs": [],
   "source": [
    "4. What is the value of spam[-1]?"
   ]
  },
  {
   "cell_type": "code",
   "execution_count": 4,
   "id": "5b6c0ae0",
   "metadata": {},
   "outputs": [
    {
     "data": {
      "text/plain": [
       "'d'"
      ]
     },
     "execution_count": 4,
     "metadata": {},
     "output_type": "execute_result"
    }
   ],
   "source": [
    "#ans :\n",
    "\n",
    "spam =['a','b', 'c','d']\n",
    "spam[-1]\n",
    "# This will print the list from reverse ."
   ]
  },
  {
   "cell_type": "markdown",
   "id": "4d3843b1",
   "metadata": {},
   "source": [
    "# Question 5"
   ]
  },
  {
   "cell_type": "code",
   "execution_count": null,
   "id": "addedd0b",
   "metadata": {},
   "outputs": [],
   "source": [
    "5.What is the value of spam[:2]?"
   ]
  },
  {
   "cell_type": "code",
   "execution_count": 5,
   "id": "a6bf691b",
   "metadata": {},
   "outputs": [
    {
     "data": {
      "text/plain": [
       "['a', 'b']"
      ]
     },
     "execution_count": 5,
     "metadata": {},
     "output_type": "execute_result"
    }
   ],
   "source": [
    "#Ans :\n",
    "\n",
    "spam =['a','b', 'c','d']\n",
    "spam[:2]\n",
    "\n",
    "#This will print from 0th index till 2nd index excluding the 2nd index ."
   ]
  },
  {
   "cell_type": "markdown",
   "id": "6aa460f4",
   "metadata": {},
   "source": [
    "# Question 6"
   ]
  },
  {
   "cell_type": "code",
   "execution_count": null,
   "id": "d7deb158",
   "metadata": {},
   "outputs": [],
   "source": [
    "Let's pretend bacon has the list [3.14, 'cat' ,'11','cat', True] for the next three questions."
   ]
  },
  {
   "cell_type": "markdown",
   "id": "f97fa187",
   "metadata": {},
   "source": [
    "6.What is the value of bacon.index('cat')?"
   ]
  },
  {
   "cell_type": "code",
   "execution_count": 6,
   "id": "3e9b1a46",
   "metadata": {},
   "outputs": [
    {
     "data": {
      "text/plain": [
       "1"
      ]
     },
     "execution_count": 6,
     "metadata": {},
     "output_type": "execute_result"
    }
   ],
   "source": [
    "#Ans :\n",
    "# .index() method returns the index number of the first occurence of given element in the list.\n",
    "bacon = [3.14, 'cat' ,'11','cat', True]\n",
    "bacon.index('cat')\n",
    "\n",
    "#'cat' is there in the 1st index .It only gives the first occurence value."
   ]
  },
  {
   "cell_type": "markdown",
   "id": "43cc74e5",
   "metadata": {},
   "source": [
    "# Question 7"
   ]
  },
  {
   "cell_type": "markdown",
   "id": "384a6c8c",
   "metadata": {},
   "source": [
    "7.How does bacon.append(99) change the look of the list value in bacon?"
   ]
  },
  {
   "cell_type": "code",
   "execution_count": 2,
   "id": "c0200f5b",
   "metadata": {},
   "outputs": [
    {
     "name": "stdout",
     "output_type": "stream",
     "text": [
      "[3.14, 'cat', '11', 'cat', True, 99]\n"
     ]
    }
   ],
   "source": [
    "# Ans :\n",
    "bacon = [3.14, 'cat' ,'11','cat', True]\n",
    "bacon.append(99)\n",
    "print(bacon)\n",
    "# .append () adds element at the end of the list .So (99) will be added at the end of the list ."
   ]
  },
  {
   "cell_type": "markdown",
   "id": "8084c452",
   "metadata": {},
   "source": [
    "# Question 8"
   ]
  },
  {
   "cell_type": "markdown",
   "id": "fb03b500",
   "metadata": {},
   "source": [
    "8.How does bacon.remove('cat') change the look of the list in bacon?"
   ]
  },
  {
   "cell_type": "code",
   "execution_count": 3,
   "id": "92ec336a",
   "metadata": {},
   "outputs": [
    {
     "name": "stdout",
     "output_type": "stream",
     "text": [
      "[3.14, '11', 'cat', True]\n"
     ]
    }
   ],
   "source": [
    "# .remove() method directly removes the element in ().\n",
    "bacon = [3.14, 'cat' ,'11','cat', True]\n",
    "bacon.remove('cat')\n",
    "print(bacon)\n",
    " \n",
    "#It removed the first \"cat\" from the list bacon ."
   ]
  },
  {
   "cell_type": "markdown",
   "id": "809b399a",
   "metadata": {},
   "source": [
    "# Question 9"
   ]
  },
  {
   "cell_type": "markdown",
   "id": "3e3e0fe6",
   "metadata": {},
   "source": [
    "9.What are the list concatenation and list replication operators?"
   ]
  },
  {
   "cell_type": "code",
   "execution_count": 4,
   "id": "f9feb105",
   "metadata": {},
   "outputs": [
    {
     "name": "stdout",
     "output_type": "stream",
     "text": [
      "[1, 3, 5, 7, 9, 2, 4, 6, 8, 10]\n"
     ]
    }
   ],
   "source": [
    "# List concatenation means addding two or more lists together.\n",
    "#Example :\n",
    "\n",
    "list1 =[1,3,5,7,9]\n",
    "list2 =[2,4,6,8,10]\n",
    "\n",
    "new_list = list1 + list2\n",
    "\n",
    "print(new_list)\n"
   ]
  },
  {
   "cell_type": "markdown",
   "id": "b4edc662",
   "metadata": {},
   "source": [
    "# Question 10"
   ]
  },
  {
   "cell_type": "markdown",
   "id": "7a50f01c",
   "metadata": {},
   "source": [
    "10.What is difference between the list methods append() and insert()?"
   ]
  },
  {
   "cell_type": "markdown",
   "id": "2fbe9dd4",
   "metadata": {},
   "source": [
    "Ans :\n",
    "    \n",
    "Both .append() and .insert() methods are used for adding elements inside the list\n",
    ".append method adds element at the end of the list .\n",
    "\n",
    ".insert can add the element at the desired index  . insert(index,value)\n",
    "specify the index and value according to us ."
   ]
  },
  {
   "cell_type": "markdown",
   "id": "a99b34ae",
   "metadata": {},
   "source": [
    "# Question 11"
   ]
  },
  {
   "cell_type": "markdown",
   "id": "ef51932d",
   "metadata": {},
   "source": [
    "11.What are the two methods for removing items from a list?"
   ]
  },
  {
   "cell_type": "code",
   "execution_count": null,
   "id": "3a286850",
   "metadata": {},
   "outputs": [],
   "source": [
    "Ans : \n",
    "\n",
    "Two methods for removing items from a list are :- .pop() nd .remove().\n",
    ".pop() removes a single item from the end whereas .remove()  removes the item  directly from the list written inside()"
   ]
  },
  {
   "cell_type": "markdown",
   "id": "cbb700c6",
   "metadata": {},
   "source": [
    "# Question 12"
   ]
  },
  {
   "cell_type": "markdown",
   "id": "5b284ab0",
   "metadata": {},
   "source": [
    "12.Describe how list values and string values are identical."
   ]
  },
  {
   "cell_type": "markdown",
   "id": "c5ddf976",
   "metadata": {},
   "source": [
    "Ans : \n",
    "\n",
    "Both list values and string values are identical with respect to their index values .Each individual items can be accessed throgh their indexes"
   ]
  },
  {
   "cell_type": "markdown",
   "id": "e7d7379c",
   "metadata": {},
   "source": [
    "# Question 13"
   ]
  },
  {
   "cell_type": "markdown",
   "id": "81ff594b",
   "metadata": {},
   "source": [
    "13.What's the difference between tuples and lists?"
   ]
  },
  {
   "cell_type": "markdown",
   "id": "eb4c2f20",
   "metadata": {},
   "source": [
    "Ans :\n",
    "    \n",
    "Lists are ordered sequence of objects that can be of any data types. Lists in python are mutable i.e. we can modify each individual item separetely whereas tuples are immutable lists i.e we cannot change each individual item separetely.\n"
   ]
  },
  {
   "cell_type": "markdown",
   "id": "aeee504b",
   "metadata": {},
   "source": [
    "# Question 14\n"
   ]
  },
  {
   "cell_type": "markdown",
   "id": "0abab263",
   "metadata": {},
   "source": [
    "14.How do you type a tuple value that only contains the integer 42?"
   ]
  },
  {
   "cell_type": "code",
   "execution_count": 6,
   "id": "8c51da1a",
   "metadata": {},
   "outputs": [],
   "source": [
    "#Ans :\n",
    "    \n",
    "tuple = (42,)\n",
    "# A tuple with single value has a , at the end .\n"
   ]
  },
  {
   "cell_type": "code",
   "execution_count": 7,
   "id": "e155fb29",
   "metadata": {},
   "outputs": [
    {
     "data": {
      "text/plain": [
       "(42,)"
      ]
     },
     "execution_count": 7,
     "metadata": {},
     "output_type": "execute_result"
    }
   ],
   "source": [
    "tuple"
   ]
  },
  {
   "cell_type": "markdown",
   "id": "d560f54d",
   "metadata": {},
   "source": [
    "# Question 15"
   ]
  },
  {
   "cell_type": "markdown",
   "id": "9d265424",
   "metadata": {},
   "source": [
    "15 How do you get a list value's tuple form? How do you get a tuple value's list form?\n"
   ]
  },
  {
   "cell_type": "markdown",
   "id": "efb6b67c",
   "metadata": {},
   "source": [
    "Ans :\n",
    "    \n",
    "We can convert tuple into list by using \"list\"keyword and list into tuple by \"tuple\" keyword "
   ]
  },
  {
   "cell_type": "code",
   "execution_count": 1,
   "id": "b5ccf5fa",
   "metadata": {},
   "outputs": [],
   "source": [
    "#Example : \n",
    "\n",
    "list1 = [1,2,3,3,4,4]"
   ]
  },
  {
   "cell_type": "code",
   "execution_count": 2,
   "id": "161f023c",
   "metadata": {},
   "outputs": [
    {
     "data": {
      "text/plain": [
       "[1, 2, 3, 3, 4, 4]"
      ]
     },
     "execution_count": 2,
     "metadata": {},
     "output_type": "execute_result"
    }
   ],
   "source": [
    "list1"
   ]
  },
  {
   "cell_type": "code",
   "execution_count": 3,
   "id": "41fc2ce6",
   "metadata": {},
   "outputs": [
    {
     "data": {
      "text/plain": [
       "(1, 2, 3, 3, 4, 4)"
      ]
     },
     "execution_count": 3,
     "metadata": {},
     "output_type": "execute_result"
    }
   ],
   "source": [
    "tuple(list1)   #This list is converted into tuple "
   ]
  },
  {
   "cell_type": "code",
   "execution_count": 4,
   "id": "60a3f692",
   "metadata": {},
   "outputs": [],
   "source": [
    "tuple1 = (1,2,3,4,5)"
   ]
  },
  {
   "cell_type": "code",
   "execution_count": 5,
   "id": "231e582a",
   "metadata": {},
   "outputs": [
    {
     "data": {
      "text/plain": [
       "[1, 2, 3, 4, 5]"
      ]
     },
     "execution_count": 5,
     "metadata": {},
     "output_type": "execute_result"
    }
   ],
   "source": [
    "list(tuple1)  #this tuple is converted into list"
   ]
  }
 ],
 "metadata": {
  "kernelspec": {
   "display_name": "Python 3 (ipykernel)",
   "language": "python",
   "name": "python3"
  },
  "language_info": {
   "codemirror_mode": {
    "name": "ipython",
    "version": 3
   },
   "file_extension": ".py",
   "mimetype": "text/x-python",
   "name": "python",
   "nbconvert_exporter": "python",
   "pygments_lexer": "ipython3",
   "version": "3.9.7"
  }
 },
 "nbformat": 4,
 "nbformat_minor": 5
}
