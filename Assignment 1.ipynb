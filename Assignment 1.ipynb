{
 "cells": [
  {
   "cell_type": "markdown",
   "id": "6f6ba259",
   "metadata": {},
   "source": [
    "#  Question 1"
   ]
  },
  {
   "cell_type": "markdown",
   "id": "52e869b0",
   "metadata": {},
   "source": [
    "In the below elements which of them are values or an expression? eg:- values can be\n",
    "integer or string and expressions will be mathematical operators.\n",
    "*\n",
    "'hello'\n",
    "-87.8\n",
    "-\n",
    "/\n",
    "+\n",
    "6"
   ]
  },
  {
   "cell_type": "markdown",
   "id": "fba40f29",
   "metadata": {},
   "source": [
    "*            -  Expression\n",
    "'hello'      -  Value\n",
    "-87.8        -  Value\n",
    "-            -  Expression  \n",
    "/            -  Expression \n",
    "+            -  Expression \n",
    "6            -  Value"
   ]
  },
  {
   "cell_type": "markdown",
   "id": "fe70f333",
   "metadata": {},
   "source": [
    "#  Question 2"
   ]
  },
  {
   "cell_type": "markdown",
   "id": "9b395014",
   "metadata": {},
   "source": [
    "What is the difference between string and variable?"
   ]
  },
  {
   "cell_type": "markdown",
   "id": "e686c35e",
   "metadata": {},
   "source": [
    "A String is a piece of text or sentence .In python strings are always written in \" \" or ' ' \n",
    "Example :- \" hello \".\n",
    "    \n",
    "Variables are used to store information that can be used in our program.Name of variables can be anything except keywords or data types .\n",
    "Example :- user_age =25 .Here user_age is the variable name .\n",
    "    "
   ]
  },
  {
   "cell_type": "markdown",
   "id": "4a71d10c",
   "metadata": {},
   "source": [
    "#  Question 3"
   ]
  },
  {
   "cell_type": "markdown",
   "id": "32e5f3a7",
   "metadata": {},
   "source": [
    "Describe three different data types."
   ]
  },
  {
   "cell_type": "markdown",
   "id": "58d83175",
   "metadata": {},
   "source": [
    "int - int stands for interger data types .They are used to designate interger values \n",
    "Example :- 2,4,5 etc.\n",
    "    \n",
    "float - float stands for floating point numbers i.e. numbers with decimal values . \n",
    "Example :- 0.5 , 1.1 etc.\n",
    "\n",
    "str -  str stands for string .A string is a piece of text or sentence .In python strings are always written in \" \" or ' ' \n",
    "Example :- \" hello \".\n",
    "    \n"
   ]
  },
  {
   "cell_type": "markdown",
   "id": "fddf0cc9",
   "metadata": {},
   "source": [
    "#  Question4"
   ]
  },
  {
   "cell_type": "markdown",
   "id": "aacf76f8",
   "metadata": {},
   "source": [
    "What is an expression made up of? What do all expressions do?"
   ]
  },
  {
   "cell_type": "markdown",
   "id": "f4c067d6",
   "metadata": {},
   "source": [
    " An expression is a piece of code that produces a value .Every expression uses a mathematical operators .\n",
    "Example :- iq =100\n",
    "           user_age = iq /5 \n",
    "    Here iq/5 is an expression which will produce a value of 25."
   ]
  },
  {
   "cell_type": "markdown",
   "id": "672a666f",
   "metadata": {},
   "source": [
    "# Question5"
   ]
  },
  {
   "cell_type": "markdown",
   "id": "c50f16ff",
   "metadata": {},
   "source": [
    "This assignment statements, like spam = 10. What is the difference between an\n",
    "expression and a statement?"
   ]
  },
  {
   "cell_type": "markdown",
   "id": "ae0ee512",
   "metadata": {},
   "source": [
    "An expression is a piece of code that produces a value .Every expression uses a mathematical operators .\n",
    "\n",
    "A statement is entire line of code that performs an action . \n",
    "\n",
    "Example :-   iq =100\n",
    "             user_age = iq /5\n",
    "        Here \"iq /5\" is an expression whereas \"user_age = iq /5\" is a statement.\n",
    "        "
   ]
  },
  {
   "cell_type": "markdown",
   "id": "e358bed4",
   "metadata": {},
   "source": [
    "#  Question 6"
   ]
  },
  {
   "cell_type": "markdown",
   "id": "b4a30b17",
   "metadata": {},
   "source": [
    "After running the following code, what does the variable bacon contain?\n",
    "bacon = 22\n",
    "bacon + 1"
   ]
  },
  {
   "cell_type": "code",
   "execution_count": 2,
   "id": "741dc6cd",
   "metadata": {},
   "outputs": [
    {
     "data": {
      "text/plain": [
       "23"
      ]
     },
     "execution_count": 2,
     "metadata": {},
     "output_type": "execute_result"
    }
   ],
   "source": [
    "bacon =22\n",
    "bacon +1\n"
   ]
  },
  {
   "cell_type": "markdown",
   "id": "faf344ee",
   "metadata": {},
   "source": [
    "# Question 7"
   ]
  },
  {
   "cell_type": "markdown",
   "id": "547fb954",
   "metadata": {},
   "source": [
    "What should the values of the following two terms be?\n",
    "'spam' + 'spamspam'\n",
    "'spam' * 3"
   ]
  },
  {
   "cell_type": "markdown",
   "id": "77072cff",
   "metadata": {},
   "source": [
    "The values of both 'spam ' +'spamspam' and 'spam' *3 will be same i.e. 'spamspamspam'.\n"
   ]
  },
  {
   "cell_type": "markdown",
   "id": "1e8e446b",
   "metadata": {},
   "source": [
    "# Question  8"
   ]
  },
  {
   "cell_type": "markdown",
   "id": "2f3ebddd",
   "metadata": {},
   "source": [
    "Why is eggs a valid variable name while 100 is invalid?"
   ]
  },
  {
   "cell_type": "markdown",
   "id": "7a0526e3",
   "metadata": {},
   "source": [
    "Eggs is a valid variable name because variable name can contain string but when we assign an interger name to something it shows error because integer itself is a value  and assigning a value to a value gives error.\n"
   ]
  },
  {
   "cell_type": "markdown",
   "id": "a2838aba",
   "metadata": {},
   "source": [
    "# Question 9"
   ]
  },
  {
   "cell_type": "markdown",
   "id": "5abee808",
   "metadata": {},
   "source": [
    "What three functions can be used to get the integer, floating-point number, or string\n",
    "version of a value?"
   ]
  },
  {
   "cell_type": "markdown",
   "id": "67339f21",
   "metadata": {},
   "source": [
    "int(), float(), str() ."
   ]
  },
  {
   "cell_type": "markdown",
   "id": "b0339744",
   "metadata": {},
   "source": [
    "# Question 10"
   ]
  },
  {
   "cell_type": "markdown",
   "id": "2e3a73de",
   "metadata": {},
   "source": [
    "Why does this expression cause an error? How can you fix it?\n",
    "'I have eaten'  + 99 + 'burritos'"
   ]
  },
  {
   "cell_type": "markdown",
   "id": "ffe784c7",
   "metadata": {},
   "source": [
    "This expression causes an error because we are trying to concatenate strings and integers .To avoid such errors we need to do data type conversion.Convert 99 to string .\n",
    "We can fix this by :- 'I have eaten' + str(99) + 'burritos' ."
   ]
  },
  {
   "cell_type": "code",
   "execution_count": null,
   "id": "66d41d73",
   "metadata": {},
   "outputs": [],
   "source": []
  }
 ],
 "metadata": {
  "kernelspec": {
   "display_name": "Python 3 (ipykernel)",
   "language": "python",
   "name": "python3"
  },
  "language_info": {
   "codemirror_mode": {
    "name": "ipython",
    "version": 3
   },
   "file_extension": ".py",
   "mimetype": "text/x-python",
   "name": "python",
   "nbconvert_exporter": "python",
   "pygments_lexer": "ipython3",
   "version": "3.9.7"
  }
 },
 "nbformat": 4,
 "nbformat_minor": 5
}
